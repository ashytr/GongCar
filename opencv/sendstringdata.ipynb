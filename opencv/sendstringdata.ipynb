{
 "cells": [
  {
   "cell_type": "code",
   "execution_count": 1,
   "metadata": {},
   "outputs": [
    {
     "name": "stdout",
     "output_type": "stream",
     "text": [
      "b'18712'\n"
     ]
    }
   ],
   "source": [
    "import serial\n",
    "def send_data_via_serial(str1, str2, str3):\n",
    "    \"\"\"\n",
    "    这个函数用于通过串口发送两个字节和三个字符串数据。\n",
    "\n",
    "    参数：\n",
    "    byte1：第一个字节数据。\n",
    "    byte2：第二个字节数据。\n",
    "    str1：第一个字符串。\n",
    "    str2：第二个字符串。\n",
    "    str3：第三个字符串。\n",
    "    \"\"\"\n",
    "    # 打开串口设备 /dev/ttyAMA0，设置波特率为 115200\n",
    "    ser = serial.Serial('/dev/ttyAMA0', 115200)\n",
    "    # 创建要发送的数据，首先是两个字节数据组成的 bytearray，然后分别将三个字符串编码后连接起来\n",
    "    data_to_send = str1.encode() + str2.encode() + str3.encode()\n",
    "    # 通过串口发送数据\n",
    "    ser.write(data_to_send)\n",
    "    # 关闭串口\n",
    "    print(data_to_send)\n",
    "send_data_via_serial('187','1','2')"
   ]
  },
  {
   "cell_type": "code",
   "execution_count": null,
   "metadata": {},
   "outputs": [],
   "source": []
  }
 ],
 "metadata": {
  "kernelspec": {
   "display_name": "Python 3",
   "language": "python",
   "name": "python3"
  },
  "language_info": {
   "codemirror_mode": {
    "name": "ipython",
    "version": 3
   },
   "file_extension": ".py",
   "mimetype": "text/x-python",
   "name": "python",
   "nbconvert_exporter": "python",
   "pygments_lexer": "ipython3",
   "version": "3.7.3"
  }
 },
 "nbformat": 4,
 "nbformat_minor": 4
}
