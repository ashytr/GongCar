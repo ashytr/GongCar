{
 "cells": [
  {
   "cell_type": "code",
   "execution_count": null,
   "metadata": {},
   "outputs": [],
   "source": [
    "import cv2\n",
    "import numpy as np\n",
    "# 打开摄像头\n",
    "cap = cv2.VideoCapture(0)\n",
    "\n",
    "while True:\n",
    "    # 读取一帧图像\n",
    "    ret, frame = cap.read()\n",
    "\n",
    "    # 显示图像\n",
    "    cv2.imshow('Camera', frame)\n",
    "\n",
    "    # 按下空格键拍照并分析绿色的 HSV 值\n",
    "    if cv2.waitKey(1) == ord(' '):\n",
    "        hsv = cv2.cvtColor(frame, cv2.COLOR_BGR2HSV)\n",
    "\n",
    "        # 在图像中选择一个绿色区域（可以手动选择一个区域）\n",
    "        roi = hsv[238:461, 175:399]\n",
    "\n",
    "        # 计算所选区域的 HSV 均值\n",
    "        h_mean = np.mean(roi[:, :, 0])\n",
    "        s_mean = np.mean(roi[:, :, 1])\n",
    "        v_mean = np.mean(roi[:, :, 2])\n",
    "\n",
    "        print(f\"绿色的 HSV 值：H={h_mean}, S={s_mean}, V={v_mean}\")\n",
    "\n",
    "    # 按下 'q' 键退出\n",
    "    if cv2.waitKey(1) & 0xFF == ord('q'):\n",
    "        break\n",
    "\n",
    "# 释放摄像头资源并关闭窗口\n",
    "cap.release()\n",
    "cv2.destroyAllWindows()"
   ]
  },
  {
   "cell_type": "code",
   "execution_count": null,
   "metadata": {},
   "outputs": [],
   "source": []
  }
 ],
 "metadata": {
  "kernelspec": {
   "display_name": "Python 3",
   "language": "python",
   "name": "python3"
  },
  "language_info": {
   "codemirror_mode": {
    "name": "ipython",
    "version": 3
   },
   "file_extension": ".py",
   "mimetype": "text/x-python",
   "name": "python",
   "nbconvert_exporter": "python",
   "pygments_lexer": "ipython3",
   "version": "3.7.3"
  }
 },
 "nbformat": 4,
 "nbformat_minor": 4
}
